{
  "nbformat": 4,
  "nbformat_minor": 0,
  "metadata": {
    "colab": {
      "provenance": []
    },
    "kernelspec": {
      "name": "python3",
      "display_name": "Python 3"
    },
    "language_info": {
      "name": "python"
    }
  },
  "cells": [
    {
      "cell_type": "markdown",
      "source": [
        "# ***Import and download all libraries and dependencies***"
      ],
      "metadata": {
        "id": "XnlmIeXa_JOe"
      }
    },
    {
      "cell_type": "code",
      "execution_count": null,
      "metadata": {
        "id": "rcdJjFlI-7EU"
      },
      "outputs": [],
      "source": [
        "import datetime\n",
        "\n",
        "import numpy as np # linear algebra\n",
        "import pandas as pd # data processing, CSV file I/O (e.g. pd.read_csv)\n",
        "import matplotlib.pyplot as plt\n",
        "\n",
        "from tensorflow import keras\n",
        "from keras.utils import np_utils\n",
        "from keras.models import Sequential\n",
        "from keras.layers import Dense, Conv2D, Flatten, MaxPool2D, Dropout"
      ]
    },
    {
      "cell_type": "markdown",
      "source": [
        "# ***Import the required fashion mnist dataset downloaded from moodle***\n",
        "\n",
        "The dataset fashion mnist contains total 70,000 numeric values which form a image when aligned in a 28 x 28 shape.\n",
        "- 60,000 are within fashion-mnist_train.csv\n",
        "- 10,000 are within fashion-mnist_test.csv\n",
        "- There 784 columns = 28 x 28 shaped\n",
        "\n",
        "\n",
        "Below we are import the csv's for the dataset which we will be using and converting the int values to float32 datatype"
      ],
      "metadata": {
        "id": "hKmv005x_Q0V"
      }
    },
    {
      "cell_type": "code",
      "source": [
        "train_data_path = '/content/fashion-mnist_train.csv'\n",
        "train_data = pd.read_csv(train_data_path)\n",
        "\n",
        "test_data_path = '/content/fashion-mnist_test.csv'\n",
        "test_data = pd.read_csv(test_data_path)"
      ],
      "metadata": {
        "id": "lYnKir-7_P8E"
      },
      "execution_count": null,
      "outputs": []
    },
    {
      "cell_type": "markdown",
      "source": [
        "# ***Data Preparation***"
      ],
      "metadata": {
        "id": "C61bG2DyAjkZ"
      }
    },
    {
      "cell_type": "markdown",
      "source": [
        "**1. Train data preparation**"
      ],
      "metadata": {
        "id": "O-rVFrGdA8r-"
      }
    },
    {
      "cell_type": "code",
      "source": [
        "train_data_label = train_data['label']\n",
        "train_data_images = train_data.drop('label', axis=1)\n",
        "print(train_data_images.iloc[1]['pixel555'])\n",
        "print(len(train_data['label']))"
      ],
      "metadata": {
        "id": "AQSNZsBoAm4W",
        "colab": {
          "base_uri": "https://localhost:8080/"
        },
        "outputId": "617ed260-fdce-49be-e88b-e2c941c6a41e"
      },
      "execution_count": null,
      "outputs": [
        {
          "output_type": "stream",
          "name": "stdout",
          "text": [
            "178\n",
            "60000\n"
          ]
        }
      ]
    },
    {
      "cell_type": "code",
      "source": [
        "parent_images_arr = []\n",
        "child_images_arr = []\n",
        "count = 1\n",
        "iteration = 1\n",
        "for item in range(0,60000) :\n",
        "  child_child_images_arr = []\n",
        "\n",
        "  for index in range(1,785) :\n",
        "    \n",
        "    if count%28 == 0 :\n",
        "      child_child_images_arr.append(train_data_images.iloc[item]['pixel'+str(index)])\n",
        "      child_images_arr.append(child_child_images_arr)\n",
        "      child_child_images_arr = []\n",
        "    else :\n",
        "      child_child_images_arr.append(train_data_images.iloc[item]['pixel'+str(index)])\n",
        "\n",
        "    count = count +1\n",
        "  \n",
        "  parent_images_arr.append(child_images_arr)\n",
        "  child_images_arr = []\n",
        "  iteration = iteration +1\n",
        "\n",
        "len(parent_images_arr)"
      ],
      "metadata": {
        "id": "aQscoDeFArpt",
        "colab": {
          "base_uri": "https://localhost:8080/"
        },
        "outputId": "38fb8888-1040-4785-8e0c-d7729db52378"
      },
      "execution_count": null,
      "outputs": [
        {
          "output_type": "execute_result",
          "data": {
            "text/plain": [
              "60000"
            ]
          },
          "metadata": {},
          "execution_count": 4
        }
      ]
    },
    {
      "cell_type": "code",
      "source": [
        "final_x_train = np.array(parent_images_arr).reshape(len(parent_images_arr), 28, 28)\n",
        "\n",
        "y_train_data = []\n",
        "for item in train_data['label'] :\n",
        "  y_train_data.append(item)\n",
        "  \n",
        "final_y_train = np.array(y_train_data).reshape(len(parent_images_arr))\n",
        "\n",
        "\n",
        "print(final_x_train.shape)\n",
        "print(final_y_train.shape)"
      ],
      "metadata": {
        "id": "R0dFlnjVCJaZ",
        "colab": {
          "base_uri": "https://localhost:8080/"
        },
        "outputId": "b906f40e-bf5d-479a-9167-c3c1b1b182da"
      },
      "execution_count": null,
      "outputs": [
        {
          "output_type": "stream",
          "name": "stdout",
          "text": [
            "(60000, 28, 28)\n",
            "(60000,)\n"
          ]
        }
      ]
    },
    {
      "cell_type": "markdown",
      "source": [
        "**2. Test data preparation**"
      ],
      "metadata": {
        "id": "owpFx5VZNYEL"
      }
    },
    {
      "cell_type": "code",
      "source": [
        "test_data_label = test_data['label']\n",
        "test_data_images = test_data.drop('label', axis=1)\n",
        "print(test_data_images.iloc[3]['pixel775'])\n",
        "print(len(test_data['label']))"
      ],
      "metadata": {
        "id": "gGmAgDFuoXa-",
        "colab": {
          "base_uri": "https://localhost:8080/"
        },
        "outputId": "5a518e3c-20bc-4cec-d119-1c90088b65c5"
      },
      "execution_count": null,
      "outputs": [
        {
          "output_type": "stream",
          "name": "stdout",
          "text": [
            "137\n",
            "10000\n"
          ]
        }
      ]
    },
    {
      "cell_type": "code",
      "source": [
        "test_parent_images_arr = []\n",
        "test_child_images_arr = []\n",
        "count = 1\n",
        "iteration = 1\n",
        "for item in range(0,10000) :\n",
        "  test_child_child_images_arr = []\n",
        "\n",
        "  for index in range(1,785) :\n",
        "    \n",
        "    if count%28 == 0 :\n",
        "      test_child_child_images_arr.append(test_data_images.iloc[item]['pixel'+str(index)])\n",
        "      test_child_images_arr.append(test_child_child_images_arr)\n",
        "      test_child_child_images_arr = []\n",
        "    else :\n",
        "      test_child_child_images_arr.append(test_data_images.iloc[item]['pixel'+str(index)])\n",
        "\n",
        "    count = count +1\n",
        "  \n",
        "  test_parent_images_arr.append(test_child_images_arr)\n",
        "  test_child_images_arr = []\n",
        "  iteration = iteration +1\n",
        "\n",
        "len(test_parent_images_arr)"
      ],
      "metadata": {
        "colab": {
          "base_uri": "https://localhost:8080/"
        },
        "id": "yp1tFs0hNwPS",
        "outputId": "6cdae444-67ad-4713-8ec3-d4b45362edb5"
      },
      "execution_count": null,
      "outputs": [
        {
          "output_type": "execute_result",
          "data": {
            "text/plain": [
              "10000"
            ]
          },
          "metadata": {},
          "execution_count": 7
        }
      ]
    },
    {
      "cell_type": "code",
      "source": [
        "final_x_test = np.array(test_parent_images_arr).reshape(len(test_parent_images_arr), 28, 28)\n",
        "\n",
        "y_test_data = []\n",
        "for item in test_data['label'] :\n",
        "  y_test_data.append(item)\n",
        "\n",
        "final_y_test = np.array(y_test_data).reshape(len(test_parent_images_arr))\n",
        "\n",
        "print(final_x_test.shape)\n",
        "print(final_y_test.shape)"
      ],
      "metadata": {
        "colab": {
          "base_uri": "https://localhost:8080/"
        },
        "id": "tl3vcvHeN1lC",
        "outputId": "deab5553-0e3f-4894-c5e4-3cf6a2c2c04e"
      },
      "execution_count": null,
      "outputs": [
        {
          "output_type": "stream",
          "name": "stdout",
          "text": [
            "(10000, 28, 28)\n",
            "(10000,)\n"
          ]
        }
      ]
    },
    {
      "cell_type": "markdown",
      "source": [
        "# **Final variables with prepared data and shape**"
      ],
      "metadata": {
        "id": "_j86xfrlOxyg"
      }
    },
    {
      "cell_type": "code",
      "source": [
        "print(final_x_train.shape, final_y_train.shape)\n",
        "print(final_x_test.shape, final_y_test.shape)"
      ],
      "metadata": {
        "colab": {
          "base_uri": "https://localhost:8080/"
        },
        "id": "I9HMMa8WOR9Z",
        "outputId": "57707fc9-0ac3-4567-88e3-da5d1d85dfe9"
      },
      "execution_count": null,
      "outputs": [
        {
          "output_type": "stream",
          "name": "stdout",
          "text": [
            "(60000, 28, 28) (60000,)\n",
            "(10000, 28, 28) (10000,)\n"
          ]
        }
      ]
    },
    {
      "cell_type": "markdown",
      "source": [
        "# ***Plot the images of the labels using imshow method of matplot***"
      ],
      "metadata": {
        "id": "mfwlSe1JPIB-"
      }
    },
    {
      "cell_type": "code",
      "source": [
        "for i in range(9):\n",
        "    plt.subplot(330 + 1 + i)\n",
        "    plt.imshow(final_x_train[i], cmap=plt.get_cmap('gray'))\n",
        "    \n",
        "plt.show()"
      ],
      "metadata": {
        "colab": {
          "base_uri": "https://localhost:8080/",
          "height": 268
        },
        "id": "uSh8sWOCRvFK",
        "outputId": "72ebacdc-02b0-4423-9d0f-e300c6b8423e"
      },
      "execution_count": null,
      "outputs": [
        {
          "output_type": "display_data",
          "data": {
            "text/plain": [
              "<Figure size 432x288 with 9 Axes>"
            ],
            "image/png": "[encoded data removed]"
          },
          "metadata": {
            "needs_background": "light"
          }
        }
      ]
    },
    {
      "cell_type": "markdown",
      "source": [
        "# ***Splitting the data for pre training the model and transfer learning***"
      ],
      "metadata": {
        "id": "_W93CeCETnVG"
      }
    },
    {
      "cell_type": "code",
      "source": [
        "pre_train_x_train = []\n",
        "pre_train_y_train = []\n",
        "pre_train_x_test = []\n",
        "pre_train_y_test = []\n",
        "\n",
        "transfer_learning_x_train = []\n",
        "transfer_learning_y_train = []\n",
        "transfer_learning_x_test = []\n",
        "transfer_learning_y_test = []\n",
        "\n",
        "for i in range(len(final_x_train)):\n",
        "    if final_y_train[i] < 5:\n",
        "        pre_train_x_train.append(final_x_train[i] / 255) # Normalize\n",
        "        pre_train_y_train.append(final_y_train[i])\n",
        "    else:\n",
        "        transfer_learning_x_train.append(final_x_train[i] / 255)\n",
        "        transfer_learning_y_train.append(final_y_train[i])\n",
        "        \n",
        "for i in range(len(final_x_test)):\n",
        "    if final_y_test[i] < 5:\n",
        "        pre_train_x_test.append(final_x_test[i] / 255)\n",
        "        pre_train_y_test.append(final_y_test[i])\n",
        "    else:\n",
        "        transfer_learning_x_test.append(final_x_test[i] / 255)\n",
        "        transfer_learning_y_test.append(final_y_test[i])"
      ],
      "metadata": {
        "id": "c5Ynfy2HTqxi"
      },
      "execution_count": null,
      "outputs": []
    },
    {
      "cell_type": "markdown",
      "source": [
        "# ***Reshaping the data using reshape method into appropriate data shape.***\n",
        "\n",
        "# Shaping the image in 28 X 28 dimension\n",
        "- The size of each image in a single-row is 28 X 28. So we convert it to the appropriate input shape of (28, 28, 1). Where the 1 means it is a single channel."
      ],
      "metadata": {
        "id": "O6Mt4lWdWSTU"
      }
    },
    {
      "cell_type": "code",
      "source": [
        "pre_train_x_train = np.asarray(pre_train_x_train).reshape(-1, 28, 28, 1)\n",
        "pre_train_x_test = np.asarray(pre_train_x_test).reshape(-1, 28, 28, 1)\n",
        "pre_train_y_train = np_utils.to_categorical(np.asarray(pre_train_y_train))\n",
        "pre_train_y_test = np_utils.to_categorical(np.asarray(pre_train_y_test))\n",
        "\n",
        "transfer_learning_x_train = np.asarray(transfer_learning_x_train).reshape(-1, 28, 28, 1)\n",
        "transfer_learning_x_test = np.asarray(transfer_learning_x_test).reshape(-1, 28, 28, 1)\n",
        "transfer_learning_y_train = np_utils.to_categorical(np.asarray(transfer_learning_y_train))\n",
        "transfer_learning_y_test = np_utils.to_categorical(np.asarray(transfer_learning_y_test))\n",
        "\n",
        "print(\"Pre Training [Train and Test data]\")\n",
        "print(pre_train_x_train.shape, pre_train_y_train.shape)\n",
        "print(pre_train_x_test.shape, pre_train_y_test.shape)\n",
        "\n",
        "print(\"\\nTransfer Learning [Train and Test data]\")\n",
        "print(transfer_learning_x_train.shape, transfer_learning_y_train.shape)\n",
        "print(transfer_learning_x_test.shape, transfer_learning_y_test.shape)"
      ],
      "metadata": {
        "colab": {
          "base_uri": "https://localhost:8080/"
        },
        "id": "K-NGEIejWhG5",
        "outputId": "4b1d5b2f-baac-4836-ce22-5837a38d0664"
      },
      "execution_count": null,
      "outputs": [
        {
          "output_type": "stream",
          "name": "stdout",
          "text": [
            "Pre Training [Train and Test data]\n",
            "(30000, 28, 28, 1) (30000, 5)\n",
            "(5000, 28, 28, 1) (5000, 5)\n",
            "\n",
            "Transfer Learning [Train and Test data]\n",
            "(30000, 28, 28, 1) (30000, 10)\n",
            "(5000, 28, 28, 1) (5000, 10)\n"
          ]
        }
      ]
    },
    {
      "cell_type": "markdown",
      "source": [
        "# ***Convolution Neural Network using sequential model***\n",
        "**Layers in Convolutional Neural Network (CNN)**\n",
        "\n",
        "**We instantiate the Sequentual model and add \n",
        "layers to the model using the add()     method**.\n",
        "\n",
        "**In Sequential model, each layer will have one input tensor and one output tensor.**\n",
        "\n",
        "We are using the 3 primary layers for CNN in our code below: \n",
        "1. Convolutional layer\n",
        "2. Pooling layer\n",
        "3. Dense layer (which are fully connected layers)\n",
        "\n",
        "- The first layer here is the convolution layer (Conv2D). It takes image if the shape (28, 28, 1) as input and will internally extract set of features while maintaining relation between near by pixels.\n",
        "\n",
        "- The second layer is the Pooling layer (MaxPooling2D). Convolutional layers are always followed by Pooling layers as pairs. MaxPooling2D helps in getting the maximum value where filter is applied and it also removes any noise present by the previous convolutional layer.\n",
        "\n",
        "- The third layers after convolution and pooling layer pairs is the Flatten layer. The pooled feature contains data in multiple channels which is flattened to a single channel here.\n",
        "\n",
        "- The final layers is the Dense layer also referred as fully connected layer. Here features are classifed into class labels.\n",
        "\n",
        "\n",
        "**1. Model initialization and creation**"
      ],
      "metadata": {
        "id": "_CIKjW9GY6Mr"
      }
    },
    {
      "cell_type": "code",
      "source": [
        "convolution_model = Sequential()\n",
        "\n",
        "# Convolutional and Pooling layers\n",
        "convolution_model.add(Conv2D(32, 5, input_shape = (28, 28, 1), activation = 'relu'))\n",
        "convolution_model.add(Conv2D(16, 5, activation = 'relu'))\n",
        "convolution_model.add(MaxPool2D(pool_size = (2, 2)))\n",
        "convolution_model.add(Conv2D(8, 3, activation = 'relu'))\n",
        "\n",
        "# Fattern the data to single channel. \n",
        "# Is done between final Pooling Layer and first Dense Layer\n",
        "convolution_model.add(Flatten())\n",
        "convolution_model.add(Dropout(0.4))\n",
        "\n",
        "# Fully connected layers\n",
        "# 128 units for first Dense layer\n",
        "convolution_model.add(Dense(128, activation = 'relu'))\n",
        "\n",
        "# 5 units for second Dense layer\n",
        "convolution_model.add(Dense(5, activation = 'softmax'))\n",
        "\n",
        "# Compiling the model and add optimizer and metrics such as accuracy \n",
        "# which will help us determine how our model has performed overall.\n",
        "convolution_model.compile(loss = 'categorical_crossentropy', optimizer = 'adam', metrics = ['accuracy'])\n",
        "\n",
        "convolution_model.summary()"
      ],
      "metadata": {
        "colab": {
          "base_uri": "https://localhost:8080/"
        },
        "id": "AUP3l0qqXTwz",
        "outputId": "5eea6d62-658d-4ec1-8fdb-6595ad38f4b9"
      },
      "execution_count": null,
      "outputs": [
        {
          "output_type": "stream",
          "name": "stdout",
          "text": [
            "Model: \"sequential\"\n",
            "_________________________________________________________________\n",
            " Layer (type)                Output Shape              Param #   \n",
            "=================================================================\n",
            " conv2d (Conv2D)             (None, 24, 24, 32)        832       \n",
            "                                                                 \n",
            " conv2d_1 (Conv2D)           (None, 20, 20, 16)        12816     \n",
            "                                                                 \n",
            " max_pooling2d (MaxPooling2D  (None, 10, 10, 16)       0         \n",
            " )                                                               \n",
            "                                                                 \n",
            " conv2d_2 (Conv2D)           (None, 8, 8, 8)           1160      \n",
            "                                                                 \n",
            " flatten (Flatten)           (None, 512)               0         \n",
            "                                                                 \n",
            " dropout (Dropout)           (None, 512)               0         \n",
            "                                                                 \n",
            " dense (Dense)               (None, 128)               65664     \n",
            "                                                                 \n",
            " dense_1 (Dense)             (None, 5)                 645       \n",
            "                                                                 \n",
            "=================================================================\n",
            "Total params: 81,117\n",
            "Trainable params: 81,117\n",
            "Non-trainable params: 0\n",
            "_________________________________________________________________\n"
          ]
        }
      ]
    },
    {
      "cell_type": "markdown",
      "source": [
        "**2. Evaluating the model by passing the pre-train data**"
      ],
      "metadata": {
        "id": "i7xTxRpuZLYf"
      }
    },
    {
      "cell_type": "code",
      "source": [
        "# Finally use the fit() method to train our model.\n",
        "# Train the model for 10 iterations(epochs).\n",
        "history_cnn = convolution_model.fit(pre_train_x_train, pre_train_y_train,\n",
        "         validation_data = (pre_train_x_test, pre_train_y_test),\n",
        "         epochs = 10,\n",
        "         shuffle = True,\n",
        "         batch_size = 100,\n",
        "         verbose = 2)"
      ],
      "metadata": {
        "colab": {
          "base_uri": "https://localhost:8080/"
        },
        "id": "XNWRBqCfYZ4n",
        "outputId": "7ffbee2d-2bd9-41b4-897d-395a76bb4531"
      },
      "execution_count": null,
      "outputs": [
        {
          "output_type": "stream",
          "name": "stdout",
          "text": [
            "Epoch 1/10\n",
            "300/300 - 74s - loss: 0.1829 - accuracy: 0.9339 - val_loss: 0.1637 - val_accuracy: 0.9430 - 74s/epoch - 248ms/step\n",
            "Epoch 2/10\n",
            "300/300 - 78s - loss: 0.1771 - accuracy: 0.9346 - val_loss: 0.1577 - val_accuracy: 0.9426 - 78s/epoch - 258ms/step\n",
            "Epoch 3/10\n",
            "300/300 - 72s - loss: 0.1723 - accuracy: 0.9363 - val_loss: 0.1555 - val_accuracy: 0.9438 - 72s/epoch - 238ms/step\n",
            "Epoch 4/10\n",
            "300/300 - 74s - loss: 0.1659 - accuracy: 0.9391 - val_loss: 0.1531 - val_accuracy: 0.9436 - 74s/epoch - 246ms/step\n",
            "Epoch 5/10\n",
            "300/300 - 72s - loss: 0.1653 - accuracy: 0.9390 - val_loss: 0.1502 - val_accuracy: 0.9450 - 72s/epoch - 239ms/step\n",
            "Epoch 6/10\n",
            "300/300 - 73s - loss: 0.1570 - accuracy: 0.9426 - val_loss: 0.1528 - val_accuracy: 0.9432 - 73s/epoch - 244ms/step\n",
            "Epoch 7/10\n",
            "300/300 - 72s - loss: 0.1545 - accuracy: 0.9421 - val_loss: 0.1544 - val_accuracy: 0.9434 - 72s/epoch - 239ms/step\n",
            "Epoch 8/10\n",
            "300/300 - 73s - loss: 0.1503 - accuracy: 0.9436 - val_loss: 0.1476 - val_accuracy: 0.9466 - 73s/epoch - 243ms/step\n",
            "Epoch 9/10\n",
            "300/300 - 72s - loss: 0.1421 - accuracy: 0.9480 - val_loss: 0.1435 - val_accuracy: 0.9486 - 72s/epoch - 238ms/step\n",
            "Epoch 10/10\n",
            "300/300 - 73s - loss: 0.1410 - accuracy: 0.9477 - val_loss: 0.1500 - val_accuracy: 0.9462 - 73s/epoch - 244ms/step\n"
          ]
        }
      ]
    },
    {
      "cell_type": "markdown",
      "source": [
        "**3. Making convolutional layers untrainable**"
      ],
      "metadata": {
        "id": "kEiQxahVZ6-J"
      }
    },
    {
      "cell_type": "code",
      "source": [
        "convolution_model.layers"
      ],
      "metadata": {
        "colab": {
          "base_uri": "https://localhost:8080/"
        },
        "id": "xtMUvnbSaCz_",
        "outputId": "3dc5fb1a-3e32-460b-f448-ba6ffacc78f3"
      },
      "execution_count": null,
      "outputs": [
        {
          "output_type": "execute_result",
          "data": {
            "text/plain": [
              "[<keras.layers.convolutional.conv2d.Conv2D at 0x7f457c895c10>,\n",
              " <keras.layers.convolutional.conv2d.Conv2D at 0x7f461a03da60>,\n",
              " <keras.layers.pooling.max_pooling2d.MaxPooling2D at 0x7f457c88ffd0>,\n",
              " <keras.layers.convolutional.conv2d.Conv2D at 0x7f461a03dc70>,\n",
              " <keras.layers.reshaping.flatten.Flatten at 0x7f457c8efd90>,\n",
              " <keras.layers.regularization.dropout.Dropout at 0x7f457c8ac490>,\n",
              " <keras.layers.core.dense.Dense at 0x7f457c8ac070>,\n",
              " <keras.layers.core.dense.Dense at 0x7f457c89a8e0>]"
            ]
          },
          "metadata": {},
          "execution_count": 15
        }
      ]
    },
    {
      "cell_type": "markdown",
      "source": [
        "# ***Transfer Learning***\n",
        "\n",
        "**Applying Transfer Learning using the pretrained model on the test data.**"
      ],
      "metadata": {
        "id": "0c-cX6IZaT7R"
      }
    },
    {
      "cell_type": "code",
      "source": [
        "for layer in convolution_model.layers[:6]:\n",
        "    layer.trainable = False\n",
        "    \n",
        "for layer in convolution_model.layers:\n",
        "    print(layer.trainable)"
      ],
      "metadata": {
        "colab": {
          "base_uri": "https://localhost:8080/"
        },
        "id": "gSDy3ujDaEe7",
        "outputId": "83210421-ad80-4dbe-fa9d-9f7dfa455e69"
      },
      "execution_count": null,
      "outputs": [
        {
          "output_type": "stream",
          "name": "stdout",
          "text": [
            "False\n",
            "False\n",
            "False\n",
            "False\n",
            "False\n",
            "False\n",
            "True\n",
            "True\n"
          ]
        }
      ]
    },
    {
      "cell_type": "markdown",
      "source": [
        "**1. Model initialization and creation by passing the existing convolution model.**"
      ],
      "metadata": {
        "id": "h6s4kuF0bGl9"
      }
    },
    {
      "cell_type": "code",
      "source": [
        "transfer_learning_model = Sequential(convolution_model.layers[:6])\n",
        "\n",
        "transfer_learning_model.add(Dense(128, activation = 'relu'))\n",
        "transfer_learning_model.add(Dense(10, activation = 'softmax'))\n",
        "\n",
        "transfer_learning_model.compile(loss = 'categorical_crossentropy', optimizer = 'adam', metrics = ['accuracy'])\n",
        "\n",
        "transfer_learning_model.summary()"
      ],
      "metadata": {
        "colab": {
          "base_uri": "https://localhost:8080/"
        },
        "id": "kTxPswrjaoBF",
        "outputId": "b7416d9d-b7b5-460b-b825-deb6d13e165b"
      },
      "execution_count": null,
      "outputs": [
        {
          "output_type": "stream",
          "name": "stdout",
          "text": [
            "Model: \"sequential_1\"\n",
            "_________________________________________________________________\n",
            " Layer (type)                Output Shape              Param #   \n",
            "=================================================================\n",
            " conv2d (Conv2D)             (None, 24, 24, 32)        832       \n",
            "                                                                 \n",
            " conv2d_1 (Conv2D)           (None, 20, 20, 16)        12816     \n",
            "                                                                 \n",
            " max_pooling2d (MaxPooling2D  (None, 10, 10, 16)       0         \n",
            " )                                                               \n",
            "                                                                 \n",
            " conv2d_2 (Conv2D)           (None, 8, 8, 8)           1160      \n",
            "                                                                 \n",
            " flatten (Flatten)           (None, 512)               0         \n",
            "                                                                 \n",
            " dropout (Dropout)           (None, 512)               0         \n",
            "                                                                 \n",
            " dense_2 (Dense)             (None, 128)               65664     \n",
            "                                                                 \n",
            " dense_3 (Dense)             (None, 10)                1290      \n",
            "                                                                 \n",
            "=================================================================\n",
            "Total params: 81,762\n",
            "Trainable params: 66,954\n",
            "Non-trainable params: 14,808\n",
            "_________________________________________________________________\n"
          ]
        }
      ]
    },
    {
      "cell_type": "markdown",
      "source": [
        "**2. Evaluating the model by passing the test data.**"
      ],
      "metadata": {
        "id": "Ou-J0hCqbqXj"
      }
    },
    {
      "cell_type": "code",
      "source": [
        "history = transfer_learning_model.fit(transfer_learning_x_train, transfer_learning_y_train,\n",
        "            validation_data = (transfer_learning_x_test, transfer_learning_y_test),\n",
        "            epochs = 10,\n",
        "            shuffle = True,\n",
        "            batch_size = 100,\n",
        "            verbose = 2)"
      ],
      "metadata": {
        "colab": {
          "base_uri": "https://localhost:8080/"
        },
        "id": "dRP6UXTqbZut",
        "outputId": "04cb7a86-bd27-4013-fa28-a2f113b7327a"
      },
      "execution_count": null,
      "outputs": [
        {
          "output_type": "stream",
          "name": "stdout",
          "text": [
            "Epoch 1/10\n",
            "300/300 - 16s - loss: 0.3065 - accuracy: 0.8997 - val_loss: 0.1586 - val_accuracy: 0.9410 - 16s/epoch - 54ms/step\n",
            "Epoch 2/10\n",
            "300/300 - 16s - loss: 0.1830 - accuracy: 0.9357 - val_loss: 0.1478 - val_accuracy: 0.9402 - 16s/epoch - 54ms/step\n",
            "Epoch 3/10\n",
            "300/300 - 15s - loss: 0.1644 - accuracy: 0.9414 - val_loss: 0.1287 - val_accuracy: 0.9536 - 15s/epoch - 49ms/step\n",
            "Epoch 4/10\n",
            "300/300 - 15s - loss: 0.1532 - accuracy: 0.9448 - val_loss: 0.1253 - val_accuracy: 0.9528 - 15s/epoch - 49ms/step\n",
            "Epoch 5/10\n",
            "300/300 - 15s - loss: 0.1449 - accuracy: 0.9486 - val_loss: 0.1280 - val_accuracy: 0.9526 - 15s/epoch - 49ms/step\n",
            "Epoch 6/10\n",
            "300/300 - 15s - loss: 0.1359 - accuracy: 0.9524 - val_loss: 0.1177 - val_accuracy: 0.9546 - 15s/epoch - 49ms/step\n",
            "Epoch 7/10\n",
            "300/300 - 15s - loss: 0.1311 - accuracy: 0.9528 - val_loss: 0.1121 - val_accuracy: 0.9580 - 15s/epoch - 49ms/step\n",
            "Epoch 8/10\n",
            "300/300 - 15s - loss: 0.1241 - accuracy: 0.9551 - val_loss: 0.1032 - val_accuracy: 0.9626 - 15s/epoch - 49ms/step\n",
            "Epoch 9/10\n",
            "300/300 - 15s - loss: 0.1176 - accuracy: 0.9581 - val_loss: 0.1085 - val_accuracy: 0.9604 - 15s/epoch - 51ms/step\n",
            "Epoch 10/10\n",
            "300/300 - 15s - loss: 0.1181 - accuracy: 0.9563 - val_loss: 0.1002 - val_accuracy: 0.9614 - 15s/epoch - 49ms/step\n"
          ]
        }
      ]
    },
    {
      "cell_type": "markdown",
      "source": [
        "# ***Comparing the results***\n",
        "\n",
        "\n",
        "**Transfer Learning:**\n",
        "- loss: 0.1181\n",
        "- accuracy: 0.9563 \n",
        "\n",
        "**Convolutional Neural Network:**\n",
        "- loss: 0.1410 \n",
        "- accuracy: 0.9477\n",
        "\n",
        "\n",
        "**Plotting the Loss and the Accuracy metrics**\n",
        "- The loss gradually decreases and the accuracy gradually increases after each iteration(epochs)."
      ],
      "metadata": {
        "id": "PfiAnUsKAqYZ"
      }
    },
    {
      "cell_type": "code",
      "source": [
        "plt.plot(history_cnn.history['loss'])"
      ],
      "metadata": {
        "colab": {
          "base_uri": "https://localhost:8080/",
          "height": 282
        },
        "id": "HjGVCraKBAcC",
        "outputId": "afc7e925-8a8e-4b43-ecea-0fd299064b84"
      },
      "execution_count": null,
      "outputs": [
        {
          "output_type": "execute_result",
          "data": {
            "text/plain": [
              "[<matplotlib.lines.Line2D at 0x7f4577727520>]"
            ]
          },
          "metadata": {},
          "execution_count": 27
        },
        {
          "output_type": "display_data",
          "data": {
            "text/plain": [
              "<Figure size 432x288 with 1 Axes>"
            ],
            "image/png": "[encoded data removed]"
          },
          "metadata": {
            "needs_background": "light"
          }
        }
      ]
    },
    {
      "cell_type": "code",
      "source": [
        "plt.plot(history_cnn.history['accuracy'])"
      ],
      "metadata": {
        "colab": {
          "base_uri": "https://localhost:8080/",
          "height": 282
        },
        "id": "lp6OJbsBBE19",
        "outputId": "06c5b48b-3e8a-4b64-8791-f71c8f58ea90"
      },
      "execution_count": null,
      "outputs": [
        {
          "output_type": "execute_result",
          "data": {
            "text/plain": [
              "[<matplotlib.lines.Line2D at 0x7f45776edaf0>]"
            ]
          },
          "metadata": {},
          "execution_count": 28
        },
        {
          "output_type": "display_data",
          "data": {
            "text/plain": [
              "<Figure size 432x288 with 1 Axes>"
            ],
            "image/png": "[encoded data removed]"
          },
          "metadata": {
            "needs_background": "light"
          }
        }
      ]
    },
    {
      "cell_type": "code",
      "source": [
        "plt.plot(history.history['loss'])"
      ],
      "metadata": {
        "colab": {
          "base_uri": "https://localhost:8080/",
          "height": 282
        },
        "id": "9iIdxJ2FBF8F",
        "outputId": "057859e4-632a-4aa2-e851-a852d7425f02"
      },
      "execution_count": null,
      "outputs": [
        {
          "output_type": "execute_result",
          "data": {
            "text/plain": [
              "[<matplotlib.lines.Line2D at 0x7f45776c1e80>]"
            ]
          },
          "metadata": {},
          "execution_count": 29
        },
        {
          "output_type": "display_data",
          "data": {
            "text/plain": [
              "<Figure size 432x288 with 1 Axes>"
            ],
            "image/png": "[encoded data removed]"
          },
          "metadata": {
            "needs_background": "light"
          }
        }
      ]
    },
    {
      "cell_type": "code",
      "source": [
        "plt.plot(history.history['accuracy'])"
      ],
      "metadata": {
        "colab": {
          "base_uri": "https://localhost:8080/",
          "height": 283
        },
        "id": "bAT9Lw2yBFxO",
        "outputId": "5da30fd2-68d9-46ab-db14-52cf3eda4191"
      },
      "execution_count": null,
      "outputs": [
        {
          "output_type": "execute_result",
          "data": {
            "text/plain": [
              "[<matplotlib.lines.Line2D at 0x7f457761c1f0>]"
            ]
          },
          "metadata": {},
          "execution_count": 30
        },
        {
          "output_type": "display_data",
          "data": {
            "text/plain": [
              "<Figure size 432x288 with 1 Axes>"
            ],
            "image/png": "[encoded data removed]"
          },
          "metadata": {
            "needs_background": "light"
          }
        }
      ]
    }
  ]
}